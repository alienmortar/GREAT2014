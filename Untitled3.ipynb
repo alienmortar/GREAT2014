{
  "nbformat": 4,
  "nbformat_minor": 0,
  "metadata": {
    "colab": {
      "name": "Untitled3.ipynb",
      "provenance": [],
      "include_colab_link": true
    },
    "kernelspec": {
      "name": "python3",
      "display_name": "Python 3"
    }
  },
  "cells": [
    {
      "cell_type": "markdown",
      "metadata": {
        "id": "view-in-github",
        "colab_type": "text"
      },
      "source": [
        "<a href=\"https://colab.research.google.com/github/alienmortar/GREAT2014/blob/master/Untitled3.ipynb\" target=\"_parent\"><img src=\"https://colab.research.google.com/assets/colab-badge.svg\" alt=\"Open In Colab\"/></a>"
      ]
    },
    {
      "cell_type": "code",
      "metadata": {
        "id": "7Xxwoor_PgaN",
        "colab_type": "code",
        "colab": {
          "base_uri": "https://localhost:8080/",
          "height": 34
        },
        "outputId": "bd3fc8d5-1acf-424e-c870-d53eb51e1157"
      },
      "source": [
        "s = \"the quick brown fox jumps over the lazy dog\"\n",
        "print (s)"
      ],
      "execution_count": 2,
      "outputs": [
        {
          "output_type": "stream",
          "text": [
            "the quick brown fox jumps over the lazy dog\n"
          ],
          "name": "stdout"
        }
      ]
    },
    {
      "cell_type": "code",
      "metadata": {
        "id": "VVrYInJDPxKN",
        "colab_type": "code",
        "colab": {
          "base_uri": "https://localhost:8080/",
          "height": 34
        },
        "outputId": "a64895ea-f266-48b1-c038-8fcb6f5fdeb2"
      },
      "source": [
        "s.split()"
      ],
      "execution_count": 4,
      "outputs": [
        {
          "output_type": "execute_result",
          "data": {
            "text/plain": [
              "['the', 'quick', 'brown', 'fox', 'jumps', 'over', 'the', 'lazy', 'dog']"
            ]
          },
          "metadata": {
            "tags": []
          },
          "execution_count": 4
        }
      ]
    },
    {
      "cell_type": "code",
      "metadata": {
        "id": "m62VJJz2P0a4",
        "colab_type": "code",
        "colab": {}
      },
      "source": [
        "import urllib.request\n",
        "content = urllib.request.urlopen(\"https://raw.githubusercontent.com/theleadio/datascience_demo/master/alice.txt\").read().decode('UTF-8')"
      ],
      "execution_count": 0,
      "outputs": []
    },
    {
      "cell_type": "code",
      "metadata": {
        "id": "WWgQAm2AQBVV",
        "colab_type": "code",
        "colab": {
          "base_uri": "https://localhost:8080/",
          "height": 136
        },
        "outputId": "41dcf6a4-08ca-4739-ef5b-607febd4b845"
      },
      "source": [
        "print(content[:300])"
      ],
      "execution_count": 10,
      "outputs": [
        {
          "output_type": "stream",
          "text": [
            "[Alice's Adventures in Wonderland by Lewis Carroll 1865]\n",
            "\n",
            "CHAPTER I. Down the Rabbit-Hole\n",
            "\n",
            "Alice was beginning to get very tired of sitting by her sister on the\n",
            "bank, and of having nothing to do: once or twice she had peeped into the\n",
            "book her sister was reading, but it had no pictures or conversatio\n"
          ],
          "name": "stdout"
        }
      ]
    },
    {
      "cell_type": "code",
      "metadata": {
        "id": "DHn5LFA0QZWF",
        "colab_type": "code",
        "colab": {}
      },
      "source": [
        "tokens = content.split(' ')"
      ],
      "execution_count": 0,
      "outputs": []
    },
    {
      "cell_type": "code",
      "metadata": {
        "id": "xg0FNkvqQjT8",
        "colab_type": "code",
        "colab": {
          "base_uri": "https://localhost:8080/",
          "height": 54
        },
        "outputId": "b2b067a3-de82-41c2-9fe1-7ca1df942557"
      },
      "source": [
        "print(tokens[:50])"
      ],
      "execution_count": 15,
      "outputs": [
        {
          "output_type": "stream",
          "text": [
            "[\"[Alice's\", 'Adventures', 'in', 'Wonderland', 'by', 'Lewis', 'Carroll', '1865]\\n\\nCHAPTER', 'I.', 'Down', 'the', 'Rabbit-Hole\\n\\nAlice', 'was', 'beginning', 'to', 'get', 'very', 'tired', 'of', 'sitting', 'by', 'her', 'sister', 'on', 'the\\nbank,', 'and', 'of', 'having', 'nothing', 'to', 'do:', 'once', 'or', 'twice', 'she', 'had', 'peeped', 'into', 'the\\nbook', 'her', 'sister', 'was', 'reading,', 'but', 'it', 'had', 'no', 'pictures', 'or', 'conversations']\n"
          ],
          "name": "stdout"
        }
      ]
    },
    {
      "cell_type": "code",
      "metadata": {
        "id": "iWuXg77_Qpmb",
        "colab_type": "code",
        "colab": {
          "base_uri": "https://localhost:8080/",
          "height": 54
        },
        "outputId": "7e9d1fc0-92c0-41a1-aff1-70e27f3e8e12"
      },
      "source": [
        "from collections import Counter\n",
        "print(Counter(tokens).most_common(50))"
      ],
      "execution_count": 18,
      "outputs": [
        {
          "output_type": "stream",
          "text": [
            "[('the', 1340), ('', 889), ('to', 634), ('and', 630), ('a', 546), ('of', 433), ('she', 423), ('said', 395), ('it', 316), ('in', 302), ('was', 291), ('I', 241), ('you', 222), ('as', 220), ('that', 182), ('at', 181), ('her', 171), ('had', 157), ('Alice', 155), ('with', 144), ('all', 134), ('on', 129), ('be', 119), ('very', 112), ('for', 111), ('little', 99), ('so', 97), ('they', 97), ('not', 92), ('but', 91), ('he', 89), ('out', 86), ('his', 81), ('up', 75), ('were', 74), ('went', 73), ('this', 73), ('what', 72), ('Alice,', 72), ('down', 69), ('have', 67), ('about', 67), ('one', 67), ('if', 67), ('like', 64), ('would', 61), ('when', 61), ('or', 60), ('into', 60), ('is', 59)]\n"
          ],
          "name": "stdout"
        }
      ]
    },
    {
      "cell_type": "code",
      "metadata": {
        "id": "QIu5gEPaRAYX",
        "colab_type": "code",
        "colab": {
          "base_uri": "https://localhost:8080/",
          "height": 71
        },
        "outputId": "35f88ffa-b438-42a6-b4d5-f9af671882d0"
      },
      "source": [
        "import re\n",
        "\n",
        "tokens = re.findall(r'\\w+', content.lower())\n",
        "tokens = [token for token in tokens]\n",
        "print(tokens[:50])\n",
        "\n",
        "print(Counter(tokens).most_common(50))"
      ],
      "execution_count": 20,
      "outputs": [
        {
          "output_type": "stream",
          "text": [
            "['alice', 's', 'adventures', 'in', 'wonderland', 'by', 'lewis', 'carroll', '1865', 'chapter', 'i', 'down', 'the', 'rabbit', 'hole', 'alice', 'was', 'beginning', 'to', 'get', 'very', 'tired', 'of', 'sitting', 'by', 'her', 'sister', 'on', 'the', 'bank', 'and', 'of', 'having', 'nothing', 'to', 'do', 'once', 'or', 'twice', 'she', 'had', 'peeped', 'into', 'the', 'book', 'her', 'sister', 'was', 'reading', 'but']\n",
            "[('the', 1642), ('and', 872), ('to', 729), ('a', 632), ('it', 595), ('she', 553), ('i', 543), ('of', 514), ('said', 462), ('you', 411), ('alice', 398), ('in', 369), ('was', 357), ('that', 315), ('as', 263), ('her', 248), ('t', 218), ('at', 212), ('s', 201), ('on', 193), ('all', 182), ('with', 180), ('had', 178), ('but', 170), ('for', 153), ('they', 152), ('so', 151), ('be', 148), ('not', 145), ('very', 144), ('what', 141), ('this', 134), ('little', 128), ('he', 125), ('out', 117), ('is', 108), ('one', 104), ('down', 102), ('up', 100), ('there', 99), ('if', 96), ('his', 96), ('then', 94), ('about', 94), ('no', 90), ('them', 88), ('know', 88), ('like', 85), ('were', 85), ('would', 83)]\n"
          ],
          "name": "stdout"
        }
      ]
    },
    {
      "cell_type": "code",
      "metadata": {
        "id": "KW--v_rjRpcx",
        "colab_type": "code",
        "colab": {}
      },
      "source": [
        "import urllib.request\n",
        "stopwords = urllib.request.urlopen(\"https://raw.githubusercontent.com/theleadio/datascience_demo/master/stopwords.txt\").read().decode(\n",
        "    'UTF-8').splitlines()"
      ],
      "execution_count": 0,
      "outputs": []
    },
    {
      "cell_type": "code",
      "metadata": {
        "id": "753ZU9oVSIhM",
        "colab_type": "code",
        "colab": {}
      },
      "source": [
        "final_tokens = [token for token in tokens if token not in stopwords]"
      ],
      "execution_count": 0,
      "outputs": []
    },
    {
      "cell_type": "code",
      "metadata": {
        "id": "BV1ZshF9SRt5",
        "colab_type": "code",
        "colab": {
          "base_uri": "https://localhost:8080/",
          "height": 54
        },
        "outputId": "b8959aa4-6c82-4c48-9d1d-fec8e3195180"
      },
      "source": [
        "print(Counter(final_tokens).most_common(50))"
      ],
      "execution_count": 28,
      "outputs": [
        {
          "output_type": "stream",
          "text": [
            "[('alice', 398), ('queen', 75), ('time', 71), ('king', 63), ('don', 61), ('turtle', 59), ('ll', 57), ('hatter', 56), ('mock', 56), ('gryphon', 55), ('rabbit', 51), ('head', 50), ('voice', 48), ('looked', 45), ('ve', 44), ('mouse', 44), ('duchess', 42), ('round', 41), ('tone', 40), ('dormouse', 40), ('cat', 37), ('march', 34), ('found', 32), ('moment', 31), ('hare', 31), ('white', 30), ('door', 30), ('heard', 30), ('day', 29), ('eyes', 29), ('dear', 29), ('replied', 29), ('caterpillar', 28), ('poor', 27), ('won', 26), ('half', 23), ('added', 23), ('jury', 22), ('words', 21), ('hand', 21), ('minute', 21), ('till', 21), ('sort', 20), ('cried', 20), ('feet', 19), ('tea', 19), ('curious', 19), ('house', 18), ('eat', 18), ('table', 18)]\n"
          ],
          "name": "stdout"
        }
      ]
    },
    {
      "cell_type": "code",
      "metadata": {
        "id": "dD2iHCX_Tgcf",
        "colab_type": "code",
        "colab": {}
      },
      "source": [
        " "
      ],
      "execution_count": 0,
      "outputs": []
    }
  ]
}