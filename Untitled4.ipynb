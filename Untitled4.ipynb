{
  "nbformat": 4,
  "nbformat_minor": 0,
  "metadata": {
    "colab": {
      "name": "Untitled4.ipynb",
      "provenance": [],
      "include_colab_link": true
    },
    "kernelspec": {
      "name": "python3",
      "display_name": "Python 3"
    }
  },
  "cells": [
    {
      "cell_type": "markdown",
      "metadata": {
        "id": "view-in-github",
        "colab_type": "text"
      },
      "source": [
        "<a href=\"https://colab.research.google.com/github/alienmortar/GREAT2014/blob/master/Untitled4.ipynb\" target=\"_parent\"><img src=\"https://colab.research.google.com/assets/colab-badge.svg\" alt=\"Open In Colab\"/></a>"
      ]
    },
    {
      "cell_type": "code",
      "metadata": {
        "id": "vQR0utptxEaz",
        "colab_type": "code",
        "colab": {}
      },
      "source": [
        "%matplotlib inline\n",
        "\n",
        "import pandas as pd\n",
        "import numpy as np\n",
        "\n",
        "import seaborn as sns\n",
        "import matplotlib.pyplot as plt\n",
        "\n",
        "%config InlineBackend.figure_format = 'retina'\n",
        "sns.set()"
      ],
      "execution_count": 0,
      "outputs": []
    },
    {
      "cell_type": "code",
      "metadata": {
        "id": "U0Yk9ey0xpU6",
        "colab_type": "code",
        "colab": {}
      },
      "source": [
        "df = pd.read_csv('https://storage.googleapis.com/datascience360/booking_com_hotel_reviews.csv')"
      ],
      "execution_count": 0,
      "outputs": []
    },
    {
      "cell_type": "code",
      "metadata": {
        "id": "6G_sWWkOyBY5",
        "colab_type": "code",
        "colab": {
          "base_uri": "https://localhost:8080/",
          "height": 496
        },
        "outputId": "3994c9e4-a532-474f-96b9-e85bae7881d8"
      },
      "source": [
        "df.head()"
      ],
      "execution_count": 5,
      "outputs": [
        {
          "output_type": "execute_result",
          "data": {
            "text/html": [
              "<div>\n",
              "<style scoped>\n",
              "    .dataframe tbody tr th:only-of-type {\n",
              "        vertical-align: middle;\n",
              "    }\n",
              "\n",
              "    .dataframe tbody tr th {\n",
              "        vertical-align: top;\n",
              "    }\n",
              "\n",
              "    .dataframe thead th {\n",
              "        text-align: right;\n",
              "    }\n",
              "</style>\n",
              "<table border=\"1\" class=\"dataframe\">\n",
              "  <thead>\n",
              "    <tr style=\"text-align: right;\">\n",
              "      <th></th>\n",
              "      <th>Unnamed: 0</th>\n",
              "      <th>Hotel_Address</th>\n",
              "      <th>Hotel_Name</th>\n",
              "      <th>Reviewer_Nationality</th>\n",
              "      <th>Negative_Review</th>\n",
              "      <th>Positive_Review</th>\n",
              "      <th>Reviewer_Score</th>\n",
              "      <th>lat</th>\n",
              "      <th>lng</th>\n",
              "    </tr>\n",
              "  </thead>\n",
              "  <tbody>\n",
              "    <tr>\n",
              "      <th>0</th>\n",
              "      <td>0</td>\n",
              "      <td>s Gravesandestraat 55 Oost 1092 AA Amsterdam ...</td>\n",
              "      <td>Hotel Arena</td>\n",
              "      <td>Russia</td>\n",
              "      <td>I am so angry that i made this post available...</td>\n",
              "      <td>Only the park outside of the hotel was beauti...</td>\n",
              "      <td>2.9</td>\n",
              "      <td>52.360576</td>\n",
              "      <td>4.915968</td>\n",
              "    </tr>\n",
              "    <tr>\n",
              "      <th>1</th>\n",
              "      <td>1</td>\n",
              "      <td>s Gravesandestraat 55 Oost 1092 AA Amsterdam ...</td>\n",
              "      <td>Hotel Arena</td>\n",
              "      <td>Ireland</td>\n",
              "      <td>No Negative</td>\n",
              "      <td>No real complaints the hotel was great great ...</td>\n",
              "      <td>7.5</td>\n",
              "      <td>52.360576</td>\n",
              "      <td>4.915968</td>\n",
              "    </tr>\n",
              "    <tr>\n",
              "      <th>2</th>\n",
              "      <td>2</td>\n",
              "      <td>s Gravesandestraat 55 Oost 1092 AA Amsterdam ...</td>\n",
              "      <td>Hotel Arena</td>\n",
              "      <td>Australia</td>\n",
              "      <td>Rooms are nice but for elderly a bit difficul...</td>\n",
              "      <td>Location was good and staff were ok It is cut...</td>\n",
              "      <td>7.1</td>\n",
              "      <td>52.360576</td>\n",
              "      <td>4.915968</td>\n",
              "    </tr>\n",
              "    <tr>\n",
              "      <th>3</th>\n",
              "      <td>3</td>\n",
              "      <td>s Gravesandestraat 55 Oost 1092 AA Amsterdam ...</td>\n",
              "      <td>Hotel Arena</td>\n",
              "      <td>United Kingdom</td>\n",
              "      <td>My room was dirty and I was afraid to walk ba...</td>\n",
              "      <td>Great location in nice surroundings the bar a...</td>\n",
              "      <td>3.8</td>\n",
              "      <td>52.360576</td>\n",
              "      <td>4.915968</td>\n",
              "    </tr>\n",
              "    <tr>\n",
              "      <th>4</th>\n",
              "      <td>4</td>\n",
              "      <td>s Gravesandestraat 55 Oost 1092 AA Amsterdam ...</td>\n",
              "      <td>Hotel Arena</td>\n",
              "      <td>New Zealand</td>\n",
              "      <td>You When I booked with your company on line y...</td>\n",
              "      <td>Amazing location and building Romantic setting</td>\n",
              "      <td>6.7</td>\n",
              "      <td>52.360576</td>\n",
              "      <td>4.915968</td>\n",
              "    </tr>\n",
              "  </tbody>\n",
              "</table>\n",
              "</div>"
            ],
            "text/plain": [
              "   Unnamed: 0  ...       lng\n",
              "0           0  ...  4.915968\n",
              "1           1  ...  4.915968\n",
              "2           2  ...  4.915968\n",
              "3           3  ...  4.915968\n",
              "4           4  ...  4.915968\n",
              "\n",
              "[5 rows x 9 columns]"
            ]
          },
          "metadata": {
            "tags": []
          },
          "execution_count": 5
        }
      ]
    },
    {
      "cell_type": "code",
      "metadata": {
        "id": "zXDvAXRbyFuh",
        "colab_type": "code",
        "colab": {
          "base_uri": "https://localhost:8080/",
          "height": 496
        },
        "outputId": "04b066d7-37dc-4caf-fadf-8001ab183d69"
      },
      "source": [
        "df.tail()"
      ],
      "execution_count": 6,
      "outputs": [
        {
          "output_type": "execute_result",
          "data": {
            "text/html": [
              "<div>\n",
              "<style scoped>\n",
              "    .dataframe tbody tr th:only-of-type {\n",
              "        vertical-align: middle;\n",
              "    }\n",
              "\n",
              "    .dataframe tbody tr th {\n",
              "        vertical-align: top;\n",
              "    }\n",
              "\n",
              "    .dataframe thead th {\n",
              "        text-align: right;\n",
              "    }\n",
              "</style>\n",
              "<table border=\"1\" class=\"dataframe\">\n",
              "  <thead>\n",
              "    <tr style=\"text-align: right;\">\n",
              "      <th></th>\n",
              "      <th>Unnamed: 0</th>\n",
              "      <th>Hotel_Address</th>\n",
              "      <th>Hotel_Name</th>\n",
              "      <th>Reviewer_Nationality</th>\n",
              "      <th>Negative_Review</th>\n",
              "      <th>Positive_Review</th>\n",
              "      <th>Reviewer_Score</th>\n",
              "      <th>lat</th>\n",
              "      <th>lng</th>\n",
              "    </tr>\n",
              "  </thead>\n",
              "  <tbody>\n",
              "    <tr>\n",
              "      <th>515733</th>\n",
              "      <td>515733</td>\n",
              "      <td>Wurzbachgasse 21 15 Rudolfsheim F nfhaus 1150 ...</td>\n",
              "      <td>Atlantis Hotel Vienna</td>\n",
              "      <td>Kuwait</td>\n",
              "      <td>no trolly or staff to help you take the lugga...</td>\n",
              "      <td>location</td>\n",
              "      <td>7.0</td>\n",
              "      <td>48.203745</td>\n",
              "      <td>16.335677</td>\n",
              "    </tr>\n",
              "    <tr>\n",
              "      <th>515734</th>\n",
              "      <td>515734</td>\n",
              "      <td>Wurzbachgasse 21 15 Rudolfsheim F nfhaus 1150 ...</td>\n",
              "      <td>Atlantis Hotel Vienna</td>\n",
              "      <td>Estonia</td>\n",
              "      <td>The hotel looks like 3 but surely not 4</td>\n",
              "      <td>Breakfast was ok and we got earlier check in</td>\n",
              "      <td>5.8</td>\n",
              "      <td>48.203745</td>\n",
              "      <td>16.335677</td>\n",
              "    </tr>\n",
              "    <tr>\n",
              "      <th>515735</th>\n",
              "      <td>515735</td>\n",
              "      <td>Wurzbachgasse 21 15 Rudolfsheim F nfhaus 1150 ...</td>\n",
              "      <td>Atlantis Hotel Vienna</td>\n",
              "      <td>Egypt</td>\n",
              "      <td>The ac was useless It was a hot week in vienn...</td>\n",
              "      <td>No Positive</td>\n",
              "      <td>2.5</td>\n",
              "      <td>48.203745</td>\n",
              "      <td>16.335677</td>\n",
              "    </tr>\n",
              "    <tr>\n",
              "      <th>515736</th>\n",
              "      <td>515736</td>\n",
              "      <td>Wurzbachgasse 21 15 Rudolfsheim F nfhaus 1150 ...</td>\n",
              "      <td>Atlantis Hotel Vienna</td>\n",
              "      <td>Mexico</td>\n",
              "      <td>No Negative</td>\n",
              "      <td>The rooms are enormous and really comfortable...</td>\n",
              "      <td>8.8</td>\n",
              "      <td>48.203745</td>\n",
              "      <td>16.335677</td>\n",
              "    </tr>\n",
              "    <tr>\n",
              "      <th>515737</th>\n",
              "      <td>515737</td>\n",
              "      <td>Wurzbachgasse 21 15 Rudolfsheim F nfhaus 1150 ...</td>\n",
              "      <td>Atlantis Hotel Vienna</td>\n",
              "      <td>Hungary</td>\n",
              "      <td>I was in 3rd floor It didn t work Free Wife</td>\n",
              "      <td>staff was very kind</td>\n",
              "      <td>8.3</td>\n",
              "      <td>48.203745</td>\n",
              "      <td>16.335677</td>\n",
              "    </tr>\n",
              "  </tbody>\n",
              "</table>\n",
              "</div>"
            ],
            "text/plain": [
              "        Unnamed: 0  ...        lng\n",
              "515733      515733  ...  16.335677\n",
              "515734      515734  ...  16.335677\n",
              "515735      515735  ...  16.335677\n",
              "515736      515736  ...  16.335677\n",
              "515737      515737  ...  16.335677\n",
              "\n",
              "[5 rows x 9 columns]"
            ]
          },
          "metadata": {
            "tags": []
          },
          "execution_count": 6
        }
      ]
    },
    {
      "cell_type": "code",
      "metadata": {
        "id": "P2NDTrIkyh0q",
        "colab_type": "code",
        "colab": {
          "base_uri": "https://localhost:8080/",
          "height": 255
        },
        "outputId": "530e1b80-9218-4c14-9810-e48180938e1e"
      },
      "source": [
        "df.info()"
      ],
      "execution_count": 7,
      "outputs": [
        {
          "output_type": "stream",
          "text": [
            "<class 'pandas.core.frame.DataFrame'>\n",
            "RangeIndex: 515738 entries, 0 to 515737\n",
            "Data columns (total 9 columns):\n",
            "Unnamed: 0              515738 non-null int64\n",
            "Hotel_Address           515738 non-null object\n",
            "Hotel_Name              515738 non-null object\n",
            "Reviewer_Nationality    515738 non-null object\n",
            "Negative_Review         515738 non-null object\n",
            "Positive_Review         515738 non-null object\n",
            "Reviewer_Score          515738 non-null float64\n",
            "lat                     512470 non-null float64\n",
            "lng                     512470 non-null float64\n",
            "dtypes: float64(3), int64(1), object(5)\n",
            "memory usage: 35.4+ MB\n"
          ],
          "name": "stdout"
        }
      ]
    },
    {
      "cell_type": "code",
      "metadata": {
        "id": "5ps9WsUfykR2",
        "colab_type": "code",
        "colab": {}
      },
      "source": [
        "# Prepare the dataset, extract representative keywords from positive and negative reviews\n",
        "from sklearn.feature_extraction.text import CountVectorizer\n",
        "\n",
        "cv = CountVectorizer(analyzer = 'word', stop_words = 'english', max_features = 20,ngram_range=(2,2))\n",
        "negative_features = cv.fit_transform(df['Negative_Review'])\n",
        "negative_counts = negative_features.A.sum(axis=0)\n",
        "negative_words = cv.get_feature_names()\n",
        "negative_terms = dict(zip(negative_words,negative_counts))\n",
        "top_negative_terms = sorted(negative_terms.items() ,  key=lambda x: x[1], reverse=True)\n",
        "df_negative = pd.DataFrame(top_negative_terms, columns=[\"term\", \"frequency\"])\n",
        "\n",
        "\n",
        "positive_features = cv.fit_transform(df['Positive_Review'])\n",
        "positive_counts = positive_features.A.sum(axis=0)\n",
        "positive_words = cv.get_feature_names()\n",
        "positive_terms = dict(zip(positive_words,positive_counts))\n",
        "top_positive_terms = sorted(positive_terms.items() ,  key=lambda x: x[1], reverse=True)\n",
        "df_positive = pd.DataFrame(top_positive_terms, columns=[\"term\", \"frequency\"])"
      ],
      "execution_count": 0,
      "outputs": []
    },
    {
      "cell_type": "code",
      "metadata": {
        "id": "ZJzeVyQ8zQHa",
        "colab_type": "code",
        "colab": {
          "base_uri": "https://localhost:8080/",
          "height": 816
        },
        "outputId": "2c15e183-2dc6-4f7d-dc9c-dfe8bddb10e5"
      },
      "source": [
        "print('Top 20 terms in Negative Reviews:')\n",
        "print('--------------------------------------------')\n",
        "print(df_negative)\n",
        "\n",
        "print()\n",
        "\n",
        "print('Top 20 terms in Positive Reviews:')\n",
        "print('--------------------------------------------')\n",
        "print(df_positive)"
      ],
      "execution_count": 9,
      "outputs": [
        {
          "output_type": "stream",
          "text": [
            "Top 20 terms in Negative Reviews:\n",
            "--------------------------------------------\n",
            "                   term  frequency\n",
            "0            room small       9943\n",
            "1          room service       6292\n",
            "2            small room       5562\n",
            "3      air conditioning       5525\n",
            "4           booking com       4469\n",
            "5             didn work       4173\n",
            "6            star hotel       3993\n",
            "7            tea coffee       3957\n",
            "8             didn like       3702\n",
            "9           rooms small       3525\n",
            "10   breakfast included       3050\n",
            "11             room bit       2895\n",
            "12           double bed       2822\n",
            "13            bit small       2764\n",
            "14           little bit       2762\n",
            "15          room little       2752\n",
            "16             mini bar       2723\n",
            "17             did work       2588\n",
            "18  breakfast expensive       2509\n",
            "19                wi fi       2407\n",
            "\n",
            "Top 20 terms in Positive Reviews:\n",
            "--------------------------------------------\n",
            "                  term  frequency\n",
            "0       great location      30092\n",
            "1       staff friendly      24716\n",
            "2       friendly staff      24625\n",
            "3     friendly helpful      21496\n",
            "4        good location      19564\n",
            "5        staff helpful      17165\n",
            "6        helpful staff      16887\n",
            "7   excellent location      11845\n",
            "8       location great      10718\n",
            "9        location good      10281\n",
            "10      breakfast good       9139\n",
            "11      good breakfast       9088\n",
            "12     comfortable bed       8844\n",
            "13          room clean       8527\n",
            "14    walking distance       8407\n",
            "15  location excellent       7775\n",
            "16     bed comfortable       7508\n",
            "17         staff great       7143\n",
            "18    helpful friendly       7102\n",
            "19         value money       6949\n"
          ],
          "name": "stdout"
        }
      ]
    },
    {
      "cell_type": "code",
      "metadata": {
        "id": "Udo-DyQ5zY_D",
        "colab_type": "code",
        "colab": {
          "base_uri": "https://localhost:8080/",
          "height": 712
        },
        "outputId": "acae64fd-03c7-487e-810e-c2b4f396c956"
      },
      "source": [
        "sns.set(rc={'figure.figsize':(12,10)})\n",
        "ax = sns.barplot(x=\"term\", y=\"frequency\", data = df_negative)\n",
        "loc, labels = plt.xticks()\n",
        "ax.set_xticklabels(labels, rotation=90);"
      ],
      "execution_count": 10,
      "outputs": [
        {
          "output_type": "display_data",
          "data": {
            "image/png": "[encoded data removed]",
            "text/plain": [
              "<Figure size 864x720 with 1 Axes>"
            ]
          },
          "metadata": {
            "tags": [],
            "image/png": {
              "width": 744,
              "height": 695
            }
          }
        }
      ]
    },
    {
      "cell_type": "code",
      "metadata": {
        "id": "IHDPgBVH0UJc",
        "colab_type": "code",
        "colab": {}
      },
      "source": [
        "neg = {\"reviews\":df['Negative_Review'],\"sentiment\": len(df['Negative_Review'])*[\"negative\"]}\n",
        "pos = {\"reviews\":df['Positive_Review'],\"sentiment\": len(df['Positive_Review'])*[\"positive\"]}\n",
        "\n",
        "df_senti = pd.DataFrame(neg).append(pd.DataFrame(pos))"
      ],
      "execution_count": 0,
      "outputs": []
    },
    {
      "cell_type": "code",
      "metadata": {
        "id": "jJgfyp6n18q6",
        "colab_type": "code",
        "colab": {
          "base_uri": "https://localhost:8080/",
          "height": 204
        },
        "outputId": "6765847a-ee32-4c85-f212-ad5d12465c46"
      },
      "source": [
        "df_senti.head()"
      ],
      "execution_count": 12,
      "outputs": [
        {
          "output_type": "execute_result",
          "data": {
            "text/html": [
              "<div>\n",
              "<style scoped>\n",
              "    .dataframe tbody tr th:only-of-type {\n",
              "        vertical-align: middle;\n",
              "    }\n",
              "\n",
              "    .dataframe tbody tr th {\n",
              "        vertical-align: top;\n",
              "    }\n",
              "\n",
              "    .dataframe thead th {\n",
              "        text-align: right;\n",
              "    }\n",
              "</style>\n",
              "<table border=\"1\" class=\"dataframe\">\n",
              "  <thead>\n",
              "    <tr style=\"text-align: right;\">\n",
              "      <th></th>\n",
              "      <th>reviews</th>\n",
              "      <th>sentiment</th>\n",
              "    </tr>\n",
              "  </thead>\n",
              "  <tbody>\n",
              "    <tr>\n",
              "      <th>0</th>\n",
              "      <td>I am so angry that i made this post available...</td>\n",
              "      <td>negative</td>\n",
              "    </tr>\n",
              "    <tr>\n",
              "      <th>1</th>\n",
              "      <td>No Negative</td>\n",
              "      <td>negative</td>\n",
              "    </tr>\n",
              "    <tr>\n",
              "      <th>2</th>\n",
              "      <td>Rooms are nice but for elderly a bit difficul...</td>\n",
              "      <td>negative</td>\n",
              "    </tr>\n",
              "    <tr>\n",
              "      <th>3</th>\n",
              "      <td>My room was dirty and I was afraid to walk ba...</td>\n",
              "      <td>negative</td>\n",
              "    </tr>\n",
              "    <tr>\n",
              "      <th>4</th>\n",
              "      <td>You When I booked with your company on line y...</td>\n",
              "      <td>negative</td>\n",
              "    </tr>\n",
              "  </tbody>\n",
              "</table>\n",
              "</div>"
            ],
            "text/plain": [
              "                                             reviews sentiment\n",
              "0   I am so angry that i made this post available...  negative\n",
              "1                                        No Negative  negative\n",
              "2   Rooms are nice but for elderly a bit difficul...  negative\n",
              "3   My room was dirty and I was afraid to walk ba...  negative\n",
              "4   You When I booked with your company on line y...  negative"
            ]
          },
          "metadata": {
            "tags": []
          },
          "execution_count": 12
        }
      ]
    },
    {
      "cell_type": "code",
      "metadata": {
        "id": "Swe0tigU2Al8",
        "colab_type": "code",
        "colab": {
          "base_uri": "https://localhost:8080/",
          "height": 204
        },
        "outputId": "3ed36e5a-60c8-4a54-e5dc-cd78080c8850"
      },
      "source": [
        "df_senti.tail()"
      ],
      "execution_count": 13,
      "outputs": [
        {
          "output_type": "execute_result",
          "data": {
            "text/html": [
              "<div>\n",
              "<style scoped>\n",
              "    .dataframe tbody tr th:only-of-type {\n",
              "        vertical-align: middle;\n",
              "    }\n",
              "\n",
              "    .dataframe tbody tr th {\n",
              "        vertical-align: top;\n",
              "    }\n",
              "\n",
              "    .dataframe thead th {\n",
              "        text-align: right;\n",
              "    }\n",
              "</style>\n",
              "<table border=\"1\" class=\"dataframe\">\n",
              "  <thead>\n",
              "    <tr style=\"text-align: right;\">\n",
              "      <th></th>\n",
              "      <th>reviews</th>\n",
              "      <th>sentiment</th>\n",
              "    </tr>\n",
              "  </thead>\n",
              "  <tbody>\n",
              "    <tr>\n",
              "      <th>515733</th>\n",
              "      <td>location</td>\n",
              "      <td>positive</td>\n",
              "    </tr>\n",
              "    <tr>\n",
              "      <th>515734</th>\n",
              "      <td>Breakfast was ok and we got earlier check in</td>\n",
              "      <td>positive</td>\n",
              "    </tr>\n",
              "    <tr>\n",
              "      <th>515735</th>\n",
              "      <td>No Positive</td>\n",
              "      <td>positive</td>\n",
              "    </tr>\n",
              "    <tr>\n",
              "      <th>515736</th>\n",
              "      <td>The rooms are enormous and really comfortable...</td>\n",
              "      <td>positive</td>\n",
              "    </tr>\n",
              "    <tr>\n",
              "      <th>515737</th>\n",
              "      <td>staff was very kind</td>\n",
              "      <td>positive</td>\n",
              "    </tr>\n",
              "  </tbody>\n",
              "</table>\n",
              "</div>"
            ],
            "text/plain": [
              "                                                  reviews sentiment\n",
              "515733                                           location  positive\n",
              "515734      Breakfast was ok and we got earlier check in   positive\n",
              "515735                                        No Positive  positive\n",
              "515736   The rooms are enormous and really comfortable...  positive\n",
              "515737                               staff was very kind   positive"
            ]
          },
          "metadata": {
            "tags": []
          },
          "execution_count": 13
        }
      ]
    },
    {
      "cell_type": "code",
      "metadata": {
        "id": "Ug6mzLg_2EJ7",
        "colab_type": "code",
        "colab": {
          "base_uri": "https://localhost:8080/",
          "height": 51
        },
        "outputId": "3ead06fd-51dd-4075-b761-68587f1f1292"
      },
      "source": [
        "import nltk\n",
        "nltk.download('stopwords')\n",
        "\n",
        "from nltk.corpus import stopwords\n",
        "from sklearn.feature_extraction.text import TfidfVectorizer\n",
        "\n",
        "vectorizer = TfidfVectorizer (max_features=150, min_df=7,  stop_words=stopwords.words('english'))\n",
        "processed_features = vectorizer.fit_transform(df_senti['reviews']).toarray()"
      ],
      "execution_count": 14,
      "outputs": [
        {
          "output_type": "stream",
          "text": [
            "[nltk_data] Downloading package stopwords to /root/nltk_data...\n",
            "[nltk_data]   Unzipping corpora/stopwords.zip.\n"
          ],
          "name": "stdout"
        }
      ]
    },
    {
      "cell_type": "code",
      "metadata": {
        "id": "OMijTNxI2lGZ",
        "colab_type": "code",
        "colab": {
          "base_uri": "https://localhost:8080/",
          "height": 156
        },
        "outputId": "6fb4a713-188c-4717-97cf-b6e3972bfa42"
      },
      "source": [
        "X = processed_features\n",
        "y = df_senti['sentiment']\n",
        "\n",
        "from sklearn.linear_model import LogisticRegression\n",
        "\n",
        "lr = LogisticRegression()\n",
        "\n",
        "lr.fit(X, y)"
      ],
      "execution_count": 15,
      "outputs": [
        {
          "output_type": "stream",
          "text": [
            "/usr/local/lib/python3.6/dist-packages/sklearn/linear_model/logistic.py:432: FutureWarning: Default solver will be changed to 'lbfgs' in 0.22. Specify a solver to silence this warning.\n",
            "  FutureWarning)\n"
          ],
          "name": "stderr"
        },
        {
          "output_type": "execute_result",
          "data": {
            "text/plain": [
              "LogisticRegression(C=1.0, class_weight=None, dual=False, fit_intercept=True,\n",
              "                   intercept_scaling=1, l1_ratio=None, max_iter=100,\n",
              "                   multi_class='warn', n_jobs=None, penalty='l2',\n",
              "                   random_state=None, solver='warn', tol=0.0001, verbose=0,\n",
              "                   warm_start=False)"
            ]
          },
          "metadata": {
            "tags": []
          },
          "execution_count": 15
        }
      ]
    },
    {
      "cell_type": "code",
      "metadata": {
        "id": "dhXALUbl2sJ-",
        "colab_type": "code",
        "colab": {
          "base_uri": "https://localhost:8080/",
          "height": 34
        },
        "outputId": "53c5e3bb-3523-44a6-d314-623b8c2a9fb6"
      },
      "source": [
        "comment = \"The food here are awful\"\n",
        "processed_comment = vectorizer.transform([comment])\n",
        "lr.predict(processed_comment)"
      ],
      "execution_count": 16,
      "outputs": [
        {
          "output_type": "execute_result",
          "data": {
            "text/plain": [
              "array(['negative'], dtype=object)"
            ]
          },
          "metadata": {
            "tags": []
          },
          "execution_count": 16
        }
      ]
    },
    {
      "cell_type": "code",
      "metadata": {
        "id": "emnhRutm4RtE",
        "colab_type": "code",
        "colab": {
          "base_uri": "https://localhost:8080/",
          "height": 34
        },
        "outputId": "2ba4fef3-f98b-4c70-fcf2-44b9c4aba70b"
      },
      "source": [
        "from sklearn.metrics import accuracy_score\n",
        "\n",
        "predictions = lr.predict(X)\n",
        "\n",
        "accuracy_score(y,predictions)"
      ],
      "execution_count": 17,
      "outputs": [
        {
          "output_type": "execute_result",
          "data": {
            "text/plain": [
              "0.9046095110307947"
            ]
          },
          "metadata": {
            "tags": []
          },
          "execution_count": 17
        }
      ]
    },
    {
      "cell_type": "code",
      "metadata": {
        "id": "5nnGaAjZ598v",
        "colab_type": "code",
        "colab": {}
      },
      "source": [
        ""
      ],
      "execution_count": 0,
      "outputs": []
    }
  ]
}