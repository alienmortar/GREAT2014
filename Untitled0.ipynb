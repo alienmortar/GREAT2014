{
  "nbformat": 4,
  "nbformat_minor": 0,
  "metadata": {
    "colab": {
      "name": "Untitled0.ipynb",
      "provenance": [],
      "include_colab_link": true
    },
    "kernelspec": {
      "name": "python3",
      "display_name": "Python 3"
    }
  },
  "cells": [
    {
      "cell_type": "markdown",
      "metadata": {
        "id": "view-in-github",
        "colab_type": "text"
      },
      "source": [
        "<a href=\"https://colab.research.google.com/github/alienmortar/GREAT2014/blob/master/Untitled0.ipynb\" target=\"_parent\"><img src=\"https://colab.research.google.com/assets/colab-badge.svg\" alt=\"Open In Colab\"/></a>"
      ]
    },
    {
      "cell_type": "code",
      "metadata": {
        "id": "5dTZKpWh169R",
        "colab_type": "code",
        "outputId": "491b7c65-c8de-40f4-91b5-796fcc6f1972",
        "colab": {
          "base_uri": "https://localhost:8080/",
          "height": 34
        }
      },
      "source": [
        "apple = 5\n",
        "orange = 6\n",
        "total = apple + orange\n",
        "print(total)\n"
      ],
      "execution_count": 0,
      "outputs": [
        {
          "output_type": "stream",
          "text": [
            "11\n"
          ],
          "name": "stdout"
        }
      ]
    },
    {
      "cell_type": "markdown",
      "metadata": {
        "id": "7ZgZS_ZI3Mid",
        "colab_type": "text"
      },
      "source": [
        ""
      ]
    },
    {
      "cell_type": "code",
      "metadata": {
        "id": "vTy_w6DR3UVJ",
        "colab_type": "code",
        "outputId": "f53d13a4-0444-4d32-d5cb-3fef1f6c20d6",
        "colab": {
          "base_uri": "https://localhost:8080/",
          "height": 34
        }
      },
      "source": [
        "mugs = 12\n",
        "plates = 5\n",
        "tea_cup = 8\n",
        "total = 3 * mugs + 2 * plates + tea_cup\n",
        "print(total)"
      ],
      "execution_count": 0,
      "outputs": [
        {
          "output_type": "stream",
          "text": [
            "54\n"
          ],
          "name": "stdout"
        }
      ]
    },
    {
      "cell_type": "markdown",
      "metadata": {
        "id": "czjDPG4R3vUk",
        "colab_type": "text"
      },
      "source": [
        ""
      ]
    },
    {
      "cell_type": "code",
      "metadata": {
        "id": "mVvsCzum3vs6",
        "colab_type": "code",
        "colab": {}
      },
      "source": [
        "age = 32\n",
        "name = 'Jacky'\n",
        "married = True\n",
        "height = 1.75\n"
      ],
      "execution_count": 0,
      "outputs": []
    },
    {
      "cell_type": "markdown",
      "metadata": {
        "id": "UelMry-n39t_",
        "colab_type": "text"
      },
      "source": [
        ""
      ]
    },
    {
      "cell_type": "code",
      "metadata": {
        "id": "8EBvp-l_3-DE",
        "colab_type": "code",
        "outputId": "d4317135-cba0-42b6-ca22-0799513b6281",
        "colab": {
          "base_uri": "https://localhost:8080/",
          "height": 34
        }
      },
      "source": [
        "# Hi I am just a line of comment\n",
        "# print('Ignore me....')\n",
        "print(\"You can only see me\")\n"
      ],
      "execution_count": 0,
      "outputs": [
        {
          "output_type": "stream",
          "text": [
            "You can only see me\n"
          ],
          "name": "stdout"
        }
      ]
    },
    {
      "cell_type": "markdown",
      "metadata": {
        "id": "oo5m3XTL4P5W",
        "colab_type": "text"
      },
      "source": [
        ""
      ]
    },
    {
      "cell_type": "code",
      "metadata": {
        "id": "QSckWHAg4Q39",
        "colab_type": "code",
        "outputId": "7c83ba3e-ebc9-401a-b4a8-1463b3efb74b",
        "colab": {
          "base_uri": "https://localhost:8080/",
          "height": 34
        }
      },
      "source": [
        "result = 1/3\n",
        "print (result)"
      ],
      "execution_count": 0,
      "outputs": [
        {
          "output_type": "stream",
          "text": [
            "0.3333333333333333\n"
          ],
          "name": "stdout"
        }
      ]
    },
    {
      "cell_type": "markdown",
      "metadata": {
        "id": "iM_9uFpQ4l_w",
        "colab_type": "text"
      },
      "source": [
        ""
      ]
    },
    {
      "cell_type": "code",
      "metadata": {
        "id": "Bd_Nh02y4mNA",
        "colab_type": "code",
        "outputId": "c3151b63-25a8-4087-e057-ca45d7607573",
        "colab": {
          "base_uri": "https://localhost:8080/",
          "height": 34
        }
      },
      "source": [
        "name = \"Nur Anis\"\n",
        "name"
      ],
      "execution_count": 0,
      "outputs": [
        {
          "output_type": "execute_result",
          "data": {
            "text/plain": [
              "'Nur Anis'"
            ]
          },
          "metadata": {
            "tags": []
          },
          "execution_count": 9
        }
      ]
    },
    {
      "cell_type": "markdown",
      "metadata": {
        "id": "CQ7oPkQE4uxw",
        "colab_type": "text"
      },
      "source": [
        "Will be printed out as string"
      ]
    },
    {
      "cell_type": "code",
      "metadata": {
        "id": "hkKH8L944x_R",
        "colab_type": "code",
        "outputId": "395f0b61-9ae5-4e0e-f95e-bb3403e30aa3",
        "colab": {
          "base_uri": "https://localhost:8080/",
          "height": 68
        }
      },
      "source": [
        "name = \"Ryan\"\n",
        "food = 'cheese'\n",
        "age = \"19\"\n",
        "print (name)\n",
        "print (food)\n",
        "age"
      ],
      "execution_count": 0,
      "outputs": [
        {
          "output_type": "stream",
          "text": [
            "Ryan\n",
            "cheese\n"
          ],
          "name": "stdout"
        },
        {
          "output_type": "execute_result",
          "data": {
            "text/plain": [
              "'19'"
            ]
          },
          "metadata": {
            "tags": []
          },
          "execution_count": 17
        }
      ]
    },
    {
      "cell_type": "markdown",
      "metadata": {
        "id": "Xkug8Vv26pV1",
        "colab_type": "text"
      },
      "source": [
        ""
      ]
    },
    {
      "cell_type": "code",
      "metadata": {
        "id": "yqlMDXxY6pjD",
        "colab_type": "code",
        "outputId": "c7fedb89-2644-4ba1-99ea-fb88d7fdd6c6",
        "colab": {
          "base_uri": "https://localhost:8080/",
          "height": 34
        }
      },
      "source": [
        "def age():\n",
        "  age = 20\n",
        "  return age\n",
        "print(age())"
      ],
      "execution_count": 0,
      "outputs": [
        {
          "output_type": "stream",
          "text": [
            "20\n"
          ],
          "name": "stdout"
        }
      ]
    },
    {
      "cell_type": "markdown",
      "metadata": {
        "id": "uR0qo4FO7JFi",
        "colab_type": "text"
      },
      "source": [
        "python syntax without curly brackets or BEGIN/END"
      ]
    },
    {
      "cell_type": "code",
      "metadata": {
        "id": "9G9n-PqY7OkQ",
        "colab_type": "code",
        "outputId": "23e24428-093b-45cd-919f-ccd1d630e1c5",
        "colab": {
          "base_uri": "https://localhost:8080/",
          "height": 34
        }
      },
      "source": [
        "def age_by_year(year_of_birth):\n",
        "  return 2019-year_of_birth\n",
        "\n",
        "print(\"your age is\", age_by_year(1993), \"years old\")\n"
      ],
      "execution_count": 0,
      "outputs": [
        {
          "output_type": "stream",
          "text": [
            "your age is 26 years old\n"
          ],
          "name": "stdout"
        }
      ]
    },
    {
      "cell_type": "markdown",
      "metadata": {
        "id": "SXvbqdUQ8dLz",
        "colab_type": "text"
      },
      "source": [
        ""
      ]
    },
    {
      "cell_type": "code",
      "metadata": {
        "id": "mBzcxaz68dVe",
        "colab_type": "code",
        "outputId": "5bcff821-2f9d-419c-f546-f032e2fa0eb5",
        "colab": {
          "base_uri": "https://localhost:8080/",
          "height": 51
        }
      },
      "source": [
        "age = input('How old are you? ')\n",
        "if int(age) > 18:\n",
        "  print(\"you are allowed to enter\")\n",
        "else:\n",
        "  print(\"sorry, please go home now!\")\n"
      ],
      "execution_count": 0,
      "outputs": [
        {
          "output_type": "stream",
          "text": [
            "How old are you? 25\n",
            "you are allowed to enter\n"
          ],
          "name": "stdout"
        }
      ]
    },
    {
      "cell_type": "markdown",
      "metadata": {
        "id": "Z-KU02Yx9inN",
        "colab_type": "text"
      },
      "source": [
        ""
      ]
    },
    {
      "cell_type": "code",
      "metadata": {
        "id": "6L2RUW4G9iyK",
        "colab_type": "code",
        "outputId": "78811511-00f4-4880-dd52-fce48e267843",
        "colab": {
          "base_uri": "https://localhost:8080/",
          "height": 51
        }
      },
      "source": [
        "Temp = float (input('Enter celcius temperature:'))\n",
        "#Temp\n",
        "def Conversion():\n",
        "  Conversion = (Temp * (9/5)) + 32\n",
        "  return Conversion\n",
        "print(\"your Celsius temperature in Fahrenheit is\", Conversion())"
      ],
      "execution_count": 0,
      "outputs": [
        {
          "output_type": "stream",
          "text": [
            "Enter celcius temperature:32\n",
            "your Celsius temperature in Fahrenheit is 89.6\n"
          ],
          "name": "stdout"
        }
      ]
    },
    {
      "cell_type": "markdown",
      "metadata": {
        "id": "1ruc6Q2BAvJp",
        "colab_type": "text"
      },
      "source": [
        "Need to define first, then return the value to get the output."
      ]
    },
    {
      "cell_type": "code",
      "metadata": {
        "id": "essAznIPA03V",
        "colab_type": "code",
        "outputId": "061d7986-fbad-469f-e012-a9aebfeebb4e",
        "colab": {
          "base_uri": "https://localhost:8080/",
          "height": 68
        }
      },
      "source": [
        "temperature = float(input('Enter temperature:'))\n",
        "unit = input('What is the unit?')\n",
        "\n",
        "def convert(temperature, unit):\n",
        "  if unit == \"c\":\n",
        "    return (temperature * (9/5)) + 32  \n",
        "  if unit == \"f\":\n",
        "    return (temperature - 32) * 5/9\n",
        "  \n",
        "print(convert(temperature, unit))"
      ],
      "execution_count": 0,
      "outputs": [
        {
          "output_type": "stream",
          "text": [
            "Enter temperature:89.6\n",
            "What is the unit?f\n",
            "32.0\n"
          ],
          "name": "stdout"
        }
      ]
    },
    {
      "cell_type": "markdown",
      "metadata": {
        "id": "-K9cUc1aFDRC",
        "colab_type": "text"
      },
      "source": [
        "remember multiply is * not 'x'"
      ]
    },
    {
      "cell_type": "code",
      "metadata": {
        "id": "Nord2AqiFI8-",
        "colab_type": "code",
        "outputId": "7fc3d26d-aee6-485a-e72f-2204390fa30e",
        "colab": {
          "base_uri": "https://localhost:8080/",
          "height": 34
        }
      },
      "source": [
        "names = [ \"Andy\", \"Aaron\", \"Jacky\", \"Leon\" ]\n",
        "names"
      ],
      "execution_count": 0,
      "outputs": [
        {
          "output_type": "execute_result",
          "data": {
            "text/plain": [
              "['Andy', 'Aaron', 'Jacky', 'Leon']"
            ]
          },
          "metadata": {
            "tags": []
          },
          "execution_count": 71
        }
      ]
    },
    {
      "cell_type": "markdown",
      "metadata": {
        "id": "ToXaberdFPrB",
        "colab_type": "text"
      },
      "source": [
        ""
      ]
    },
    {
      "cell_type": "code",
      "metadata": {
        "id": "QLQhlhD8FP5Q",
        "colab_type": "code",
        "outputId": "931dd80d-3966-4637-9db1-d9162521868c",
        "colab": {
          "base_uri": "https://localhost:8080/",
          "height": 170
        }
      },
      "source": [
        "data = [1, \"banana\", 2, \"apples\", 3, \"oranges\", 4.5, \"kiwis\"]\n",
        "for item in data:\n",
        "  print(item)\n",
        "print(data[3])"
      ],
      "execution_count": 0,
      "outputs": [
        {
          "output_type": "stream",
          "text": [
            "1\n",
            "banana\n",
            "2\n",
            "apples\n",
            "3\n",
            "oranges\n",
            "4.5\n",
            "kiwis\n",
            "apples\n"
          ],
          "name": "stdout"
        }
      ]
    },
    {
      "cell_type": "markdown",
      "metadata": {
        "id": "gcUYMpWnGNoC",
        "colab_type": "text"
      },
      "source": [
        "position starts from 0,1,2,3"
      ]
    },
    {
      "cell_type": "code",
      "metadata": {
        "id": "7pqC1bQnGQ55",
        "colab_type": "code",
        "outputId": "2d759220-9b45-44d5-b034-27ac5e322548",
        "colab": {
          "base_uri": "https://localhost:8080/",
          "height": 34
        }
      },
      "source": [
        "employee = {\"name\": \"Jacky\", \"age\":30}\n",
        "employee['state'] = \"Selangor\"\n",
        "age = employee['age']\n",
        "print(employee)"
      ],
      "execution_count": 0,
      "outputs": [
        {
          "output_type": "stream",
          "text": [
            "{'name': 'Jacky', 'age': 30, 'state': 'Selangor'}\n"
          ],
          "name": "stdout"
        }
      ]
    },
    {
      "cell_type": "markdown",
      "metadata": {
        "id": "KusbY91oHGbC",
        "colab_type": "text"
      },
      "source": [
        ""
      ]
    },
    {
      "cell_type": "code",
      "metadata": {
        "id": "7SQfhFYDHG7J",
        "colab_type": "code",
        "outputId": "7f752eab-1f44-4689-d615-daa4f0f14808",
        "colab": {
          "base_uri": "https://localhost:8080/",
          "height": 306
        }
      },
      "source": [
        "lastName=\"Smithsonian\"\n",
        "count=0\n",
        "for letter in lastName:\n",
        "  print(letter,\" \",count)\n",
        "  count+=1\n",
        "print(\"-------\")\n",
        "\n",
        "count=0\n",
        "\n",
        "while (count<5):\n",
        "  print(lastName[count],\" \",count)\n",
        "  count+=1"
      ],
      "execution_count": 0,
      "outputs": [
        {
          "output_type": "stream",
          "text": [
            "S   0\n",
            "m   1\n",
            "i   2\n",
            "t   3\n",
            "h   4\n",
            "s   5\n",
            "o   6\n",
            "n   7\n",
            "i   8\n",
            "a   9\n",
            "n   10\n",
            "-------\n",
            "S   0\n",
            "m   1\n",
            "i   2\n",
            "t   3\n",
            "h   4\n"
          ],
          "name": "stdout"
        }
      ]
    },
    {
      "cell_type": "markdown",
      "metadata": {
        "id": "jvKthd5JIB2q",
        "colab_type": "text"
      },
      "source": [
        ""
      ]
    },
    {
      "cell_type": "code",
      "metadata": {
        "id": "lCdrlSOsICA8",
        "colab_type": "code",
        "outputId": "c8fa1751-6550-4d42-8744-62171a71efde",
        "colab": {
          "base_uri": "https://localhost:8080/",
          "height": 102
        }
      },
      "source": [
        "for i in range(10):\n",
        "  if i<5:\n",
        "    print(i)"
      ],
      "execution_count": 0,
      "outputs": [
        {
          "output_type": "stream",
          "text": [
            "0\n",
            "1\n",
            "2\n",
            "3\n",
            "4\n"
          ],
          "name": "stdout"
        }
      ]
    },
    {
      "cell_type": "markdown",
      "metadata": {
        "id": "tPF0kUZcIYdz",
        "colab_type": "text"
      },
      "source": [
        ""
      ]
    },
    {
      "cell_type": "code",
      "metadata": {
        "id": "E4ZaJVzCIYpq",
        "colab_type": "code",
        "outputId": "847d4bae-0e82-4e36-bca9-cfeee6597a7a",
        "colab": {
          "base_uri": "https://localhost:8080/",
          "height": 34
        }
      },
      "source": [
        "output = [str(value) for value in range(10) if value > 5]\n",
        "output"
      ],
      "execution_count": 0,
      "outputs": [
        {
          "output_type": "execute_result",
          "data": {
            "text/plain": [
              "['6', '7', '8', '9']"
            ]
          },
          "metadata": {
            "tags": []
          },
          "execution_count": 90
        }
      ]
    },
    {
      "cell_type": "code",
      "metadata": {
        "id": "2MEjYMQvAP1u",
        "colab_type": "code",
        "colab": {
          "base_uri": "https://localhost:8080/",
          "height": 34
        },
        "outputId": "2debc2ee-4e99-49c9-de4a-6ea9cf7008b3"
      },
      "source": [
        "s = 'the quick brown fox jumps over the lazy dog'\n",
        "tokens = s.split(' ')\n",
        "print(tokens)"
      ],
      "execution_count": 93,
      "outputs": [
        {
          "output_type": "stream",
          "text": [
            "['the', 'quick', 'brown', 'fox', 'jumps', 'over', 'the', 'lazy', 'dog']\n"
          ],
          "name": "stdout"
        }
      ]
    },
    {
      "cell_type": "markdown",
      "metadata": {
        "id": "eU1uKp3_fTop",
        "colab_type": "text"
      },
      "source": [
        ""
      ]
    },
    {
      "cell_type": "code",
      "metadata": {
        "id": "FmwomxmsfT1Q",
        "colab_type": "code",
        "colab": {
          "base_uri": "https://localhost:8080/",
          "height": 34
        },
        "outputId": "b4adeb5c-8b8d-405c-f55b-598bad5d6ce7"
      },
      "source": [
        "numbers = [1,2,3,4,5,6]\n",
        "squared = [n * n for n in numbers if n > 3]\n",
        "print (squared)"
      ],
      "execution_count": 94,
      "outputs": [
        {
          "output_type": "stream",
          "text": [
            "[16, 25, 36]\n"
          ],
          "name": "stdout"
        }
      ]
    },
    {
      "cell_type": "markdown",
      "metadata": {
        "id": "ig_JDXjSf2pd",
        "colab_type": "text"
      },
      "source": [
        "looping and condition can be combined"
      ]
    },
    {
      "cell_type": "code",
      "metadata": {
        "id": "LxWxda1_f5ya",
        "colab_type": "code",
        "colab": {
          "base_uri": "https://localhost:8080/",
          "height": 51
        },
        "outputId": "4d1d11f1-14b9-48ef-8165-96bed98157fa"
      },
      "source": [
        "names = ['anis', 'azmi']\n",
        "print (names)\n",
        "\n",
        "upper_names = [n.upper() for n in names]\n",
        "print(upper_names)"
      ],
      "execution_count": 97,
      "outputs": [
        {
          "output_type": "stream",
          "text": [
            "['anis', 'azmi']\n",
            "['ANIS', 'AZMI']\n"
          ],
          "name": "stdout"
        }
      ]
    },
    {
      "cell_type": "markdown",
      "metadata": {
        "id": "BEGMITDugWm1",
        "colab_type": "text"
      },
      "source": [
        ""
      ]
    },
    {
      "cell_type": "code",
      "metadata": {
        "id": "m_zxf1c9gWwW",
        "colab_type": "code",
        "colab": {
          "base_uri": "https://localhost:8080/",
          "height": 51
        },
        "outputId": "f09ffca2-8b9e-4886-f6ae-ccd1660da1b3"
      },
      "source": [
        "s = 'the quick brown fox jumps over the lazy dog'\n",
        "tokens = s.split(' ')\n",
        "print(tokens)\n",
        "\n",
        "char3 = [t for t in tokens if len(t) > 3]\n",
        "char3"
      ],
      "execution_count": 99,
      "outputs": [
        {
          "output_type": "stream",
          "text": [
            "['the', 'quick', 'brown', 'fox', 'jumps', 'over', 'the', 'lazy', 'dog']\n"
          ],
          "name": "stdout"
        },
        {
          "output_type": "execute_result",
          "data": {
            "text/plain": [
              "['quick', 'brown', 'jumps', 'over', 'lazy']"
            ]
          },
          "metadata": {
            "tags": []
          },
          "execution_count": 99
        }
      ]
    },
    {
      "cell_type": "markdown",
      "metadata": {
        "id": "Aq3dlEwfgymO",
        "colab_type": "text"
      },
      "source": [
        ""
      ]
    },
    {
      "cell_type": "code",
      "metadata": {
        "id": "-Imx5WL0gyxr",
        "colab_type": "code",
        "colab": {
          "base_uri": "https://localhost:8080/",
          "height": 51
        },
        "outputId": "8d54ed85-5471-4885-8eb8-8f69674e0763"
      },
      "source": [
        "s = 'the quick brown fox jumps over the lazy dog'\n",
        "tokens = s.split(' ')\n",
        "print(tokens)\n",
        "\n",
        "vowel = [t for t in tokens if t[0] in 'aeiou']\n",
        "vowel\n",
        "\n",
        "#sorted(tokens)"
      ],
      "execution_count": 102,
      "outputs": [
        {
          "output_type": "stream",
          "text": [
            "['the', 'quick', 'brown', 'fox', 'jumps', 'over', 'the', 'lazy', 'dog']\n"
          ],
          "name": "stdout"
        },
        {
          "output_type": "execute_result",
          "data": {
            "text/plain": [
              "['over']"
            ]
          },
          "metadata": {
            "tags": []
          },
          "execution_count": 102
        }
      ]
    }
  ]
}